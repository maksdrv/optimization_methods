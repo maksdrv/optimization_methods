{
  "cells": [
    {
      "cell_type": "code",
      "execution_count": 1,
      "metadata": {
        "id": "w-hto3ClXpLD"
      },
      "outputs": [],
      "source": [
        "import numpy as np\n",
        "import math\n",
        "import matplotlib.pyplot as plt\n",
        "import sympy"
      ]
    },
    {
      "cell_type": "code",
      "execution_count": 2,
      "metadata": {
        "id": "0oVpd3oIXy1n"
      },
      "outputs": [],
      "source": [
        "def scalar_mult(u, v):\n",
        "  sum = 0\n",
        "  for i in range(0, len(v)):\n",
        "    sum += u[i]*v[i]\n",
        "  return sum"
      ]
    },
    {
      "cell_type": "code",
      "execution_count": 3,
      "metadata": {
        "id": "XgTvFN8gbAno"
      },
      "outputs": [],
      "source": [
        "def vmul(u, v):\n",
        "  result = np.array([[0., 0.], [0., 0.]])\n",
        "  for i in range(2):\n",
        "    for j in range(2):\n",
        "      result[i][j] = u[i][0] * v[j]\n",
        "  return result\n"
      ]
    },
    {
      "cell_type": "code",
      "execution_count": 4,
      "metadata": {
        "id": "bRRb18Z3X2kw"
      },
      "outputs": [],
      "source": [
        "def v(H, W):\n",
        "  v = np.array([0., 0.])\n",
        "  for i in range(0, 2):\n",
        "    for j in range(0, 2):\n",
        "     v[i] +=  (H[i][j]) * (W[j])\n",
        "  return v"
      ]
    },
    {
      "cell_type": "code",
      "execution_count": 5,
      "metadata": {
        "id": "EC-exY-Ll_A8"
      },
      "outputs": [],
      "source": [
        "def Powell_method(F, X, counter_F, counter_W, counter_A, counter_powell):\n",
        "  g, o = 0.49, 0.3\n",
        "  A = np.eye(2)\n",
        "  W = w(X)\n",
        "  counter_W += 1\n",
        "  eps = 1e-3\n",
        "  Xprev = np.array([0, 0])\n",
        "  while (np.linalg.norm(X - Xprev) > eps):\n",
        "    Xprev = X\n",
        "    counter_powell += 1\n",
        "    kappa = 1\n",
        "    p = v(A, W)\n",
        "    X_n = X + kappa * p\n",
        "    while (f(X) - f(X_n)) < (o * kappa * scalar_mult(W, p)):\n",
        "      kappa = kappa * g\n",
        "      X_n = X + kappa * p\n",
        "      counter_F += 1\n",
        "    Wprev = W\n",
        "    X = X_n\n",
        "\n",
        "    W = w(X)\n",
        "    counter_W += 1\n",
        "    delta_X = X - Xprev\n",
        "  #print('X', delta_X)\n",
        "    delta_X_T = delta_X.reshape(-1, 1)\n",
        "    delta_W = W - Wprev\n",
        "  #print('W', delta_W)\n",
        "    delta_W_T = delta_W.reshape(-1, 1)\n",
        "    if (delta_X[0] == 0 and delta_X[1] == 0) or (delta_W[0] == 0 and delta_W[1] == 0) or counter_powell % 5 == 0:\n",
        "      A = np.eye(2)\n",
        "    else:\n",
        "      delta_X = delta_X + v(A, delta_W)\n",
        "      delta_X_T = delta_X.reshape(-1, 1)\n",
        "      delta_A = -(vmul(delta_X_T, delta_X)) / (scalar_mult(delta_W, delta_X))\n",
        "      A = A + delta_A\n",
        "      counter_A += 1\n",
        "  return X, counter_F, counter_W, counter_A, counter_powell"
      ]
    },
    {
      "cell_type": "code",
      "execution_count": 6,
      "metadata": {
        "colab": {
          "base_uri": "https://localhost:8080/"
        },
        "id": "G1Qpvo9xBZg-",
        "outputId": "09c33760-9860-4ebd-b28b-46998983b97e"
      },
      "outputs": [
        {
          "output_type": "stream",
          "name": "stdout",
          "text": [
            "=== Метод внешних штрафных функций ===\n",
            "eps =  0.001\n",
            "x* =  [0.94349147 0.89018879]\n",
            "f(x*) =  0.0031932459254057615\n",
            "Вызовов метода безусловной минимизации =  7\n",
            "Вычислено функций =  394\n",
            "Вычислено градиентов =  49\n",
            "Вычислено матриц А =  33\n",
            "Итераций в методе Пауэлла =  42\n"
          ]
        }
      ],
      "source": [
        "\n",
        "\n",
        "\n",
        "\n",
        "alpha = 200\n",
        "X = np.array([-1, -2])\n",
        "F = lambda x, y: alpha * (x ** 2 - y) ** 2 + (x - 1) ** 2 #Ф-я Розенброка\n",
        "#def G(X):\n",
        "  #return 3*X[0]**2/4 + 5*X[0]/4-2-X[1]\n",
        "f = lambda X: F(X[0], X[1])\n",
        "w = lambda X: np.array(-grad_F(X[0], X[1]))\n",
        "\n",
        "x_, y_ = sympy.Symbol('x'), sympy.Symbol('y')\n",
        "grad_F = sympy.tensor.array.derive_by_array(F(x_, y_), (x_, y_))\n",
        "grad_F = sympy.lambdify((x_, y_), grad_F, 'numpy')\n",
        "\n",
        "G = lambda x, y: 3*x**2/4 + 5*x/4-2-y\n",
        "#G = lambda x, y: np.log(3*x**2/4 + 5*x/4-2-y)\n",
        "#D = lambda x, y: 1 / G(x, y)\n",
        "#D = lambda x, y: -G(x, y)\n",
        "#d = lambda X: D(X[0], X[1])\n",
        "g = lambda X: G(X[0], X[1])\n",
        "grad_G = sympy.tensor.array.derive_by_array(G(x_, y_), (x_, y_))\n",
        "grad_G = sympy.lambdify((x_, y_), grad_G, 'numpy')\n",
        "\n",
        "eps = 1e-3\n",
        "#счетчики\n",
        "counter_powell = 0\n",
        "iterations = 0 #итераций\n",
        "counter_F = 0 #вычисленных функций\n",
        "counter_W = 0 #вычисленных антиградиентов\n",
        "counter_A = 0 #вычисленных матриц A\n",
        "\n",
        "\n",
        "data = {f(X)}\n",
        "counter_F += 1\n",
        "X_line = [X[0]]\n",
        "Y_line = [X[1]]\n",
        "\n",
        "#gamma = 1.1\n",
        "\n",
        "#r0 = abs(scalar_mult(grad_F(X[0], X[1]), grad_G(X[0], X[1])))/np.linalg.norm(grad_G(X[0], X[1]))**2;\n",
        "r0 = 2\n",
        "rk = r0\n",
        "while True:\n",
        "  iterations += 1\n",
        "  Xprev = X\n",
        "  #Fk = lambda X: f(X) + rk * (((g(X)+abs(g(X)))/2.0)**2)  #функция для минимизации\n",
        "  Fk = lambda X: f(X) + rk * (max(0, g(X))**2)\n",
        "  X, counter_F, counter_W, counter_A, counter_powell = Powell_method(Fk, X, counter_F, counter_W, counter_A, counter_powell) #градиентный спуск\n",
        "  max_criteria = max(np.linalg.norm(X-Xprev), abs(f(X) - f(Xprev)))\n",
        "  data.add(f(X))\n",
        "  X_line.append(X[0])\n",
        "  Y_line.append(X[1])\n",
        "  if max_criteria < eps:\n",
        "    break\n",
        "  rk = rk + 2\n",
        "print(\"=== Метод внешних штрафных функций ===\")\n",
        "print(\"eps = \", eps)\n",
        "print(\"x* = \", X)\n",
        "print(\"f(x*) = \", f(X))\n",
        "print(\"Вызовов метода безусловной минимизации = \", iterations)\n",
        "print(\"Вычислено функций = \", counter_F)\n",
        "print(\"Вычислено градиентов = \", counter_W)\n",
        "print(\"Вычислено матриц А = \", counter_A)\n",
        "print(\"Итераций в методе Пауэлла = \", counter_powell)"
      ]
    }
  ],
  "metadata": {
    "colab": {
      "provenance": []
    },
    "kernelspec": {
      "display_name": "Python 3",
      "name": "python3"
    },
    "language_info": {
      "name": "python"
    }
  },
  "nbformat": 4,
  "nbformat_minor": 0
}